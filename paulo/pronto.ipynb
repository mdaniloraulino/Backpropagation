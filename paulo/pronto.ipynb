{
 "cells": [
  {
   "cell_type": "code",
   "execution_count": null,
   "metadata": {},
   "outputs": [],
   "source": [
    "import numpy as np\n",
    "import pandas as pd\n",
    "\n",
    "qtInter,qtOut,qtInput,e,alpha,epoca = 100,10,784,0,0.1,0\n",
    "dataset = pd.read_csv('mnist_test.csv')\n",
    "v = np.random.randn(qtInput, qtInter) / np.sqrt(qtInput)\n",
    "w = np.random.randn(qtInter, qtOut) / np.sqrt(qtInter)"
   ]
  },
  {
   "cell_type": "code",
   "execution_count": null,
   "metadata": {},
   "outputs": [],
   "source": [
    "def algoritmo(isTreino,qtEpoca):\n",
    "    global epoca\n",
    "    for i in range (qtEpoca):\n",
    "        readLine(dataset,isTreino)\n",
    "        epoca+=1"
   ]
  },
  {
   "cell_type": "code",
   "execution_count": null,
   "metadata": {},
   "outputs": [],
   "source": [
    "def readLine(dSet,isTreino):\n",
    "    global e\n",
    "    r,e = 1,0\n",
    "    for row in dSet.itertuples(index=False):\n",
    "        linha = list(row)\n",
    "        target = targetVetor(linha.pop(0))\n",
    "        linha = trataLinha(linha)\n",
    "        forward(linha,isTreino,target,r)\n",
    "        r+=1"
   ]
  },
  {
   "cell_type": "code",
   "execution_count": null,
   "metadata": {},
   "outputs": [],
   "source": [
    "def forward(linha,isTreino,target,r):\n",
    "    global e\n",
    "    inZ = inputZ(linha)\n",
    "    Z = funcAtivacao(inZ,'relu')\n",
    "    inY = inputY(Z,w)\n",
    "    Y = funcAtivacao(inY,'relu')\n",
    "    print (target)\n",
    "    print (Y)\n",
    "    if isTreino:\n",
    "        if (not verificaAcerto(target,Y)):\n",
    "            e+=1\n",
    "            backPropagation(inZ,Z,inY,Y,target,linha)\n",
    "    print (f'Linha: {r} Epoca: {epoca} Erros: {e}' + '\\n' + '_____________________')"
   ]
  },
  {
   "cell_type": "code",
   "execution_count": null,
   "metadata": {},
   "outputs": [],
   "source": [
    "def backPropagation(inZ,Z,inY,Y,target,linha):\n",
    "    delK,inJ,delJ =[],[],[]\n",
    "    delK = deltaK(target,Y,inY,'relu') \n",
    "    inJ  = deltainJ(delK,w)\n",
    "    delJ = deltaJ(inJ,inZ,'relu')\n",
    "    atualizaPesos(delK,Z,linha,delJ)"
   ]
  },
  {
   "cell_type": "code",
   "execution_count": null,
   "metadata": {},
   "outputs": [],
   "source": [
    "def atualizaPesos(delK,Z,linha,delJ):\n",
    "    global w\n",
    "    global v\n",
    "    correcaoW = deltaW(delK,Z)\n",
    "    correcaoV = deltaV(linha,delJ)\n",
    "    w = corrigePeso(w,correcaoW)\n",
    "    v = corrigePeso(v,correcaoV)"
   ]
  },
  {
   "cell_type": "code",
   "execution_count": null,
   "metadata": {},
   "outputs": [],
   "source": [
    "def corrigePeso(peso,delta):\n",
    "    return np.add(peso,delta)"
   ]
  },
  {
   "cell_type": "code",
   "execution_count": null,
   "metadata": {},
   "outputs": [],
   "source": [
    "def trataLinha(inp):\n",
    "    retorno = np.array(inp)\n",
    "    return retorno/255\n",
    "\n",
    "def targetVetor(labels, num_classes=10):\n",
    "    retTarget = np.eye(num_classes)[labels]\n",
    "    return retTarget\n",
    "\n",
    "def inputZ(inp):\n",
    "    inX = np.zeros(qtInter)\n",
    "    for j in range (qtInter):\n",
    "        inX[j] = np.sum(inp * np.array(v[:,j]))\n",
    "    return inX\n",
    "\n",
    "def inputY(inp,pesos):\n",
    "    inX = np.zeros(qtOut)\n",
    "    for k in range (qtOut):\n",
    "        inX[k] = np.sum(inp * np.array(pesos[:,k]))\n",
    "    return inX\n",
    "\n",
    "def deltainJ (dK,peso):\n",
    "    inJ = np.zeros(qtInter)\n",
    "    for j in range (qtInter):\n",
    "        for k in range (qtOut):\n",
    "            inJ[j] += dK[k] * peso[j][k]\n",
    "    return inJ\n",
    "\n",
    "def funcAtivacao(x,func) :\n",
    "    if (func == 'relu') : \n",
    "        return np.maximum(x,0) \n",
    "    elif (func == 'sig') : \n",
    "        return (1/(1+np.exp(-x)))\n",
    "\n",
    "def derivada(x,func):        \n",
    "    if (func == 'relu') : \n",
    "        return (0 if x<0 else 1)\n",
    "    elif (func == 'sig') : \n",
    "        return (x * (1 - x))\n",
    "\n",
    "def verificaAcerto(tar,out):\n",
    "    for i in range (qtOut):\n",
    "        if (tar[i] != out[i]):\n",
    "            return False\n",
    "    return True\n",
    "\n",
    "def deltaK(targetK,Yk,YinK,func) :\n",
    "    dK = np.zeros(qtOut)\n",
    "    for i in range (qtOut) :\n",
    "        erro = targetK[i] - Yk[i]\n",
    "        deriv = derivada(YinK[i],func)\n",
    "        dK[i] = erro * deriv\n",
    "    return dK\n",
    "\n",
    "def deltaJ(inJ,inZ,func):\n",
    "    delJ = np.zeros(qtInter)\n",
    "    for j in range (qtInter):\n",
    "        deriv = derivada(inZ[j],func)\n",
    "        delJ[j] = inJ[j] * deriv\n",
    "    return delJ\n",
    "\n",
    "def deltaW(dK,Ze):\n",
    "    dW = np.empty_like(w)\n",
    "    for j in range(qtInter):\n",
    "        for k in range(qtOut):\n",
    "            dW[j][k] = alpha * dK[k] * Ze[j]\n",
    "    return dW\n",
    "\n",
    "def deltaV(linha,dJ):\n",
    "    dV = np.empty_like(v)\n",
    "    for i in range(qtInput):\n",
    "        for j in range (qtInter):\n",
    "            dV[i][j] = alpha * dJ[j] * linha[i]\n",
    "    return dV"
   ]
  },
  {
   "cell_type": "code",
   "execution_count": null,
   "metadata": {
    "scrolled": false
   },
   "outputs": [],
   "source": [
    "algoritmo(True,2)"
   ]
  },
  {
   "cell_type": "code",
   "execution_count": null,
   "metadata": {},
   "outputs": [],
   "source": []
  }
 ],
 "metadata": {
  "kernelspec": {
   "display_name": "Python 3",
   "language": "python",
   "name": "python3"
  },
  "language_info": {
   "codemirror_mode": {
    "name": "ipython",
    "version": 3
   },
   "file_extension": ".py",
   "mimetype": "text/x-python",
   "name": "python",
   "nbconvert_exporter": "python",
   "pygments_lexer": "ipython3",
   "version": "3.7.1"
  }
 },
 "nbformat": 4,
 "nbformat_minor": 2
}
